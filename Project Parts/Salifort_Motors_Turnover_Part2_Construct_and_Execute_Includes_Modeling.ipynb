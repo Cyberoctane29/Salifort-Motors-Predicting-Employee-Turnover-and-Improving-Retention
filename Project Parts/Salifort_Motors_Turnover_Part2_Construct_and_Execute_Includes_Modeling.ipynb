{
 "cells": [
  {
   "cell_type": "markdown",
   "id": "1ba09dcd",
   "metadata": {},
   "source": [
    "- **scikit-learn** libraries for machine learning models, including **LogisticRegression**, **DecisionTreeClassifier**, and **RandomForestClassifier**\n",
    "- **GridSearchCV** and **train_test_split** for splitting data and tuning models\n",
    "- **various metrics** such as **accuracy_score**, **precision_score**, and **f1_score** to evaluate the models\n",
    "- **pickle** for saving and loading models"
   ]
  },
  {
   "cell_type": "code",
   "execution_count": null,
   "id": "2ebf143d",
   "metadata": {},
   "outputs": [],
   "source": [
    "# For displaying all of the columns in dataframes\n",
    "pd.set_option('display.max_columns', None)\n",
    "\n",
    "\n",
    "from sklearn.linear_model import LogisticRegression\n",
    "from sklearn.tree import DecisionTreeClassifier\n",
    "from sklearn.ensemble import RandomForestClassifier\n",
    "\n",
    "# For metrics and helpful functions\n",
    "from sklearn.model_selection import GridSearchCV, train_test_split\n",
    "from sklearn.metrics import (accuracy_score, precision_score, recall_score,\n",
    "                             f1_score, confusion_matrix, classification_report,\n",
    "                             roc_auc_score, roc_curve, precision_recall_curve,\n",
    "                             average_precision_score, auc, ConfusionMatrixDisplay)\n",
    "\n",
    "from sklearn.tree import plot_tree\n",
    "\n",
    "# For saving models\n",
    "import pickle"
   ]
  }
 ],
 "metadata": {
  "language_info": {
   "name": "python"
  }
 },
 "nbformat": 4,
 "nbformat_minor": 5
}
